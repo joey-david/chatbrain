{
 "cells": [
  {
   "cell_type": "markdown",
   "metadata": {},
   "source": [
    "# Finetuning Yolov11l"
   ]
  },
  {
   "cell_type": "code",
   "execution_count": 1,
   "metadata": {},
   "outputs": [
    {
     "ename": "AssertionError",
     "evalue": "Train images missing!",
     "output_type": "error",
     "traceback": [
      "\u001b[0;31m---------------------------------------------------------------------------\u001b[0m",
      "\u001b[0;31mAssertionError\u001b[0m                            Traceback (most recent call last)",
      "Cell \u001b[0;32mIn[1], line 12\u001b[0m\n\u001b[1;32m     10\u001b[0m \u001b[38;5;66;03m# Verify paths\u001b[39;00m\n\u001b[1;32m     11\u001b[0m \u001b[38;5;28;01massert\u001b[39;00m os\u001b[38;5;241m.\u001b[39mpath\u001b[38;5;241m.\u001b[39mexists(yaml_path), \u001b[38;5;124m\"\u001b[39m\u001b[38;5;124mYAML file not found!\u001b[39m\u001b[38;5;124m\"\u001b[39m\n\u001b[0;32m---> 12\u001b[0m \u001b[38;5;28;01massert\u001b[39;00m os\u001b[38;5;241m.\u001b[39mpath\u001b[38;5;241m.\u001b[39mexists(os\u001b[38;5;241m.\u001b[39mpath\u001b[38;5;241m.\u001b[39mjoin(os\u001b[38;5;241m.\u001b[39mpath\u001b[38;5;241m.\u001b[39mdirname(yaml_path), \u001b[38;5;124m\"\u001b[39m\u001b[38;5;124mdataset/train/images\u001b[39m\u001b[38;5;124m\"\u001b[39m)), \u001b[38;5;124m\"\u001b[39m\u001b[38;5;124mTrain images missing!\u001b[39m\u001b[38;5;124m\"\u001b[39m\n\u001b[1;32m     13\u001b[0m \u001b[38;5;28;01massert\u001b[39;00m os\u001b[38;5;241m.\u001b[39mpath\u001b[38;5;241m.\u001b[39mexists(os\u001b[38;5;241m.\u001b[39mpath\u001b[38;5;241m.\u001b[39mjoin(os\u001b[38;5;241m.\u001b[39mpath\u001b[38;5;241m.\u001b[39mdirname(yaml_path), \u001b[38;5;124m\"\u001b[39m\u001b[38;5;124mdataset/val/images\u001b[39m\u001b[38;5;124m\"\u001b[39m)), \u001b[38;5;124m\"\u001b[39m\u001b[38;5;124mVal images missing!\u001b[39m\u001b[38;5;124m\"\u001b[39m\n\u001b[1;32m     15\u001b[0m results \u001b[38;5;241m=\u001b[39m model\u001b[38;5;241m.\u001b[39mtrain(\n\u001b[1;32m     16\u001b[0m     data\u001b[38;5;241m=\u001b[39myaml_path,\n\u001b[1;32m     17\u001b[0m     epochs\u001b[38;5;241m=\u001b[39m\u001b[38;5;241m200\u001b[39m,\n\u001b[0;32m   (...)\u001b[0m\n\u001b[1;32m     26\u001b[0m     cache\u001b[38;5;241m=\u001b[39m\u001b[38;5;28;01mTrue\u001b[39;00m, \u001b[38;5;66;03m# cache images for faster training\u001b[39;00m\n\u001b[1;32m     27\u001b[0m )\n",
      "\u001b[0;31mAssertionError\u001b[0m: Train images missing!"
     ]
    }
   ],
   "source": [
    "from ultralytics import YOLO\n",
    "import os\n",
    "\n",
    "# load the pretrained large model\n",
    "model = YOLO(\"yolo11l.pt\")\n",
    "\n",
    "# Use absolute path to YAML\n",
    "yaml_path = \"/home/joey/Projects/chatbrain/backend/vision_model/chat_dataset.yaml\"\n",
    "\n",
    "# Verify paths\n",
    "assert os.path.exists(yaml_path), \"YAML file not found!\"\n",
    "assert os.path.exists(os.path.join(os.path.dirname(yaml_path), \"dataset/train/images\")), \"Train images missing!\"\n",
    "assert os.path.exists(os.path.join(os.path.dirname(yaml_path), \"dataset/val/images\")), \"Val images missing!\"\n",
    "\n",
    "results = model.train(\n",
    "    data=yaml_path,\n",
    "    epochs=200,\n",
    "    time=8, # maxium training time in hours\n",
    "    device=\"0\",\n",
    "    patience=50, # early stopping patience\n",
    "    batch=3,  # batch size\n",
    "    multi_scale=False,\n",
    "    freeze=15,  # Freeze first 15 layers\n",
    "    mosaic=0.3,  # Reduce augmentation memory usage\n",
    "    imgsz=640, # image size\n",
    "    cache=True, # cache images for faster training\n",
    ")"
   ]
  },
  {
   "cell_type": "markdown",
   "metadata": {},
   "source": [
    "#### Sort detected boxes vertically to get message order"
   ]
  },
  {
   "cell_type": "code",
   "execution_count": 6,
   "metadata": {},
   "outputs": [],
   "source": [
    "def process_results(results):\n",
    "    boxes = []\n",
    "    for box in results[0].boxes:\n",
    "        cls = int(box.cls)\n",
    "        coords = box.xyxy[0].tolist()  # [ax, ay, bx, by]\n",
    "        boxes.append((cls, coords))\n",
    "    \n",
    "    # Sort non-contact boxes by Y-coordinate (ay)\n",
    "    contact_boxes = [b for b in boxes if b[0] == 0]\n",
    "    message_boxes = sorted(\n",
    "        [b for b in boxes if b[0] != 0],\n",
    "        key=lambda x: x[1][1]  # Sort by ay (top Y-coordinate)\n",
    "    )\n",
    "    \n",
    "    # Assign 'num' (0 for contacts, 1,2,3... for messages)\n",
    "    final = []\n",
    "    for cls, (ax, ay, bx, by) in contact_boxes:\n",
    "        final.append([ax, ay, bx, by, 0, 0])  # Type 0, num=0\n",
    "    \n",
    "    for i, (cls, (ax, ay, bx, by)) in enumerate(message_boxes, 1):\n",
    "        final.append([ax, ay, bx, by, cls, i])  # Type 1/2, num=i\n",
    "    \n",
    "    return final"
   ]
  }
 ],
 "metadata": {
  "kernelspec": {
   "display_name": ".venv",
   "language": "python",
   "name": "python3"
  },
  "language_info": {
   "codemirror_mode": {
    "name": "ipython",
    "version": 3
   },
   "file_extension": ".py",
   "mimetype": "text/x-python",
   "name": "python",
   "nbconvert_exporter": "python",
   "pygments_lexer": "ipython3",
   "version": "3.10.12"
  }
 },
 "nbformat": 4,
 "nbformat_minor": 2
}
